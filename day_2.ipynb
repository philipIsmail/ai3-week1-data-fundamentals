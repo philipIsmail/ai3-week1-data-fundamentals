{
 "cells": [
  {
   "cell_type": "code",
   "execution_count": 1,
   "id": "9716029d-00a0-4021-b6b0-ce81ef3df8f9",
   "metadata": {},
   "outputs": [
    {
     "data": {
      "text/plain": [
       "'2.1.3'"
      ]
     },
     "execution_count": 1,
     "metadata": {},
     "output_type": "execute_result"
    }
   ],
   "source": [
    "import numpy as np\n",
    "np.__version__"
   ]
  },
  {
   "cell_type": "code",
   "execution_count": 3,
   "id": "547a449a-be46-4cbe-b22c-39ba135a9da8",
   "metadata": {},
   "outputs": [
    {
     "name": "stdout",
     "output_type": "stream",
     "text": [
      "<class 'numpy.ndarray'> (3,) int64\n",
      "<class 'numpy.ndarray'> (2, 2) int64\n",
      "<class 'numpy.ndarray'> (2, 3) float64\n",
      "<class 'numpy.ndarray'> (3, 2) float64\n",
      "<class 'numpy.ndarray'> (2, 3) float64\n"
     ]
    }
   ],
   "source": [
    "a = np.array([1, 2, 3])\n",
    "b = np.array([[1, 2], [3, 4]])\n",
    "zeros = np.zeros((2, 3)) #creates a 2x3 array filled with zeros\n",
    "ones = np.ones((3, 2))\n",
    "rand = np.random.rand(2, 3)\n",
    "\n",
    "for x in [a, b, zeros, ones, rand]:\n",
    "    print(type(x), x.shape, x.dtype)"
   ]
  },
  {
   "cell_type": "code",
   "execution_count": 5,
   "id": "4c2211b0-4a2e-445c-a698-f0962ada5a7e",
   "metadata": {},
   "outputs": [
    {
     "name": "stdout",
     "output_type": "stream",
     "text": [
      "10 50\n",
      "[20 30 40]\n",
      "3\n",
      "[2 5 8]\n",
      "[False False  True  True  True]\n",
      "[30 40 50]\n"
     ]
    }
   ],
   "source": [
    "v = np.array([10, 20, 30, 40, 50])\n",
    "print(v[0], v[-1]) #first and last element\n",
    "print(v[1:4]) #slice element(2-4)\n",
    "\n",
    "m = np.array([[1, 2, 3], \n",
    "             [4, 5, 6],\n",
    "             [7, 8, 9]])\n",
    "\n",
    "print(m[0, 2]) #row 0, col 2 -> 3\n",
    "print(m[:, 1]) # all rows, col 1 -> [2, 5, 8]\n",
    "\n",
    "#boolean masking\n",
    "mask = v > 25\n",
    "print(mask) # [False, False, True, True, True]\n",
    "print(v[mask]) # [30 40 50]"
   ]
  },
  {
   "cell_type": "code",
   "execution_count": 7,
   "id": "1e3328fb-2d9a-4ab5-b431-e22a13761095",
   "metadata": {},
   "outputs": [
    {
     "name": "stdout",
     "output_type": "stream",
     "text": [
      "55 55\n"
     ]
    }
   ],
   "source": [
    "x = np.arange(1, 6)\n",
    "\n",
    "# Regular loop (slow)\n",
    "total_loop = 0\n",
    "for n in x:\n",
    "    total_loop += n**2\n",
    "\n",
    "# Vectorized (fast)\n",
    "total_vec = np.sum(x**2)\n",
    "print(total_loop, total_vec)"
   ]
  },
  {
   "cell_type": "code",
   "execution_count": 8,
   "id": "85aa167b-2e6b-40dc-b8db-1afa20d05526",
   "metadata": {},
   "outputs": [
    {
     "name": "stdout",
     "output_type": "stream",
     "text": [
      "[[2. 3. 4. 5.]\n",
      " [2. 3. 4. 5.]\n",
      " [2. 3. 4. 5.]]\n",
      "[[11. 11. 11. 11.]\n",
      " [21. 21. 21. 21.]\n",
      " [31. 31. 31. 31.]]\n"
     ]
    }
   ],
   "source": [
    "A = np.ones((3, 4))\n",
    "row = np.array([1, 2, 3, 4])\n",
    "col = np.array([[10], [20], [30]])\n",
    "\n",
    "print(A + row) #adds row to each row (3x4)\n",
    "print(A + col) #adds col to each column (3x4)"
   ]
  },
  {
   "cell_type": "code",
   "execution_count": 10,
   "id": "f9d1f046-b586-463c-b903-9dcc4fee37af",
   "metadata": {},
   "outputs": [
    {
     "name": "stdout",
     "output_type": "stream",
     "text": [
      "21\n",
      "[ 3  7 11]\n",
      "[1.5 3.5 5.5]\n",
      "[4. 3.]\n",
      "1 6 3.5 1.707825127659933\n"
     ]
    }
   ],
   "source": [
    "X = np.array([[2, 4, 6], \n",
    "             [1, 3, 5]])\n",
    "\n",
    "print(X.sum()) \n",
    "print(X.sum(axis=0)) #sum each column -> [3 7 11]\n",
    "print(X.mean(axis=0)) #average per column\n",
    "print(X.mean(axis=1)) #average per row -> [4. 3.]\n",
    "\n",
    "print(np.min(X), np.max(X), np.median(X), np.std(X))\n",
    "#axis = 0 means \"down columns\"; axis = 1 means \"across rows.\""
   ]
  },
  {
   "cell_type": "code",
   "execution_count": 12,
   "id": "4153985d-1914-4c83-9b53-f16aac6af04c",
   "metadata": {},
   "outputs": [
    {
     "name": "stdout",
     "output_type": "stream",
     "text": [
      "dot: 32\n",
      "matrix multiply:\n",
      " [[19 22]\n",
      " [43 50]]\n",
      "transpose:\n",
      " [[1 3]\n",
      " [2 4]]\n"
     ]
    }
   ],
   "source": [
    "u = np.array([1, 2, 3])\n",
    "v = np.array([4, 5, 6])\n",
    "print(\"dot:\", np.dot(u, v)) #dot product = 1*4 + 2*5 + 3*6 = 32\n",
    "\n",
    "M = np.array([[1, 2], [3, 4]])\n",
    "N = np.array([[5, 6], [7, 8]])\n",
    "print(\"matrix multiply:\\n\", M @ N) #@ = matrix multiplication\n",
    "print(\"transpose:\\n\", M.T)"
   ]
  },
  {
   "cell_type": "code",
   "execution_count": 14,
   "id": "3966a8f6-f20a-46d1-99bb-2ee4ed796543",
   "metadata": {},
   "outputs": [
    {
     "name": "stdout",
     "output_type": "stream",
     "text": [
      "int32\n",
      "float64\n"
     ]
    }
   ],
   "source": [
    "z = np.array([1, 2, 3], dtype=np.int32)\n",
    "print(z.dtype)\n",
    "\n",
    "z = z.astype(np.float64)\n",
    "print(z.dtype)\n",
    "#you can convert types anytime using .astype()"
   ]
  },
  {
   "cell_type": "code",
   "execution_count": 15,
   "id": "ac690f11-198b-42ae-8984-16b501651a61",
   "metadata": {},
   "outputs": [
    {
     "name": "stdout",
     "output_type": "stream",
     "text": [
      "[[ 0.30471708 -1.03998411  0.7504512 ]\n",
      " [ 0.94056472 -1.95103519 -1.30217951]]\n"
     ]
    }
   ],
   "source": [
    "rng = np.random.default_rng(seed = 42) #fixed seed -> same result every run\n",
    "samples = rng.normal(loc = 0, scale = 1, size = (2,3))\n",
    "print(samples)"
   ]
  },
  {
   "cell_type": "code",
   "execution_count": 18,
   "id": "1b6835ae-a061-4e09-b9b1-218a6372ca93",
   "metadata": {},
   "outputs": [
    {
     "name": "stdout",
     "output_type": "stream",
     "text": [
      "50.5\n",
      "[False False False False False False  True False False False False False\n",
      " False  True False False False False False False  True False False False\n",
      " False False False  True False False False False False False  True False\n",
      " False False False False False  True False False False False False False\n",
      "  True False False False False False False  True False False False False\n",
      " False False  True False False False False False False  True False False\n",
      " False False False False  True False False False False False False  True\n",
      " False False False False False False  True False False False False False\n",
      " False  True False False]\n"
     ]
    }
   ],
   "source": [
    "#practice\n",
    "arr = np.arange(1, 101)\n",
    "print(np.mean(arr))\n",
    "mask = arr % 7 == 0\n",
    "print(mask)"
   ]
  },
  {
   "cell_type": "code",
   "execution_count": 19,
   "id": "166871fc-367e-42e9-b9b5-8a8cd4831f12",
   "metadata": {},
   "outputs": [
    {
     "name": "stdout",
     "output_type": "stream",
     "text": [
      "[ 0  1  2  3  4  5  6  7  8  9 10 11 12 13 14 15 16 17 18 19 20 21 22 23\n",
      " 24 25 26 27 28 29 30 31 32 33 34 35 36 37 38 39 40 41 42 43 44 45 46 47\n",
      " 48 49 50 51 52 53 54 55 56 57 58 59 60 61 62 63 64 65 66 67 68 69 70 71\n",
      " 72 73 74 75 76 77 78 79 80 81 82 83 84 85 86 87 88 89 90 91 92 93 94 95\n",
      " 96 97 98 99]\n"
     ]
    }
   ],
   "source": [
    "arr = np.arange(100)\n",
    "print(arr)\n"
   ]
  },
  {
   "cell_type": "code",
   "execution_count": 20,
   "id": "57368b02-5bca-477e-86dd-c5a15a00f3b7",
   "metadata": {},
   "outputs": [
    {
     "name": "stdout",
     "output_type": "stream",
     "text": [
      "[[ 0  1  2  3  4  5  6  7  8  9]\n",
      " [10 11 12 13 14 15 16 17 18 19]\n",
      " [20 21 22 23 24 25 26 27 28 29]\n",
      " [30 31 32 33 34 35 36 37 38 39]\n",
      " [40 41 42 43 44 45 46 47 48 49]\n",
      " [50 51 52 53 54 55 56 57 58 59]\n",
      " [60 61 62 63 64 65 66 67 68 69]\n",
      " [70 71 72 73 74 75 76 77 78 79]\n",
      " [80 81 82 83 84 85 86 87 88 89]\n",
      " [90 91 92 93 94 95 96 97 98 99]]\n"
     ]
    }
   ],
   "source": [
    "matrix = arr.reshape(10, 10)\n",
    "print(matrix)"
   ]
  },
  {
   "cell_type": "code",
   "execution_count": 21,
   "id": "810f9ca1-4a81-4a5b-b674-80d8cc4ce970",
   "metadata": {},
   "outputs": [
    {
     "name": "stdout",
     "output_type": "stream",
     "text": [
      "[ 0 11 22 33 44 55 66 77 88 99]\n"
     ]
    }
   ],
   "source": [
    "diagonal = np.diag(matrix)\n",
    "print(diagonal)"
   ]
  },
  {
   "cell_type": "code",
   "execution_count": 25,
   "id": "45de6bbb-6d7a-4b18-9b02-d336cc3ef964",
   "metadata": {},
   "outputs": [
    {
     "name": "stdout",
     "output_type": "stream",
     "text": [
      "[45. 46. 47. 48. 49. 50. 51. 52. 53. 54.]\n"
     ]
    }
   ],
   "source": [
    "mean_column = matrix.mean(axis = 0)\n",
    "print(mean_column)"
   ]
  },
  {
   "cell_type": "code",
   "execution_count": 27,
   "id": "99fc3d4c-8043-4398-b5c0-9df7b3102af6",
   "metadata": {},
   "outputs": [
    {
     "name": "stdout",
     "output_type": "stream",
     "text": [
      "[[0.3903278  0.55914585 0.01582465 0.26623445]\n",
      " [0.582281   0.75284982 0.55602807 0.57445247]\n",
      " [0.54186114 0.30053739 0.2550704  0.59361557]]\n",
      "[0.22640783 0.20417744 0.79434972 0.75218684]\n"
     ]
    }
   ],
   "source": [
    "A = np.random.rand(3, 4)\n",
    "b = np.random.rand(4)\n",
    "\n",
    "print(A)\n",
    "print(b)"
   ]
  },
  {
   "cell_type": "code",
   "execution_count": 29,
   "id": "0d08e155-b0ee-42d0-a16d-94fd21db534f",
   "metadata": {},
   "outputs": [
    {
     "name": "stdout",
     "output_type": "stream",
     "text": [
      "[0.4153666  1.15932426 0.83316948]\n"
     ]
    }
   ],
   "source": [
    "result = A @ b\n",
    "print(result)"
   ]
  },
  {
   "cell_type": "code",
   "execution_count": 30,
   "id": "f0b8e4ed-9a2a-44e1-8e27-85167bd61f70",
   "metadata": {},
   "outputs": [
    {
     "name": "stdout",
     "output_type": "stream",
     "text": [
      "(100, 3)\n"
     ]
    }
   ],
   "source": [
    "data = np.random.rand(100, 3)\n",
    "print(data.shape)"
   ]
  },
  {
   "cell_type": "code",
   "execution_count": 33,
   "id": "867f08ce-4b35-482e-a6e2-624dfa86b7bb",
   "metadata": {},
   "outputs": [
    {
     "name": "stdout",
     "output_type": "stream",
     "text": [
      "Column Means: [0.48686267 0.56295351 0.45085043]\n",
      "Column STDs: [0.27685064 0.25259288 0.26755456]\n"
     ]
    }
   ],
   "source": [
    "col_means = data.mean(axis=0)\n",
    "col_stds = data.std(axis=0)\n",
    "print(\"Column Means:\", col_means)\n",
    "print(\"Column STDs:\", col_stds)"
   ]
  },
  {
   "cell_type": "code",
   "execution_count": null,
   "id": "e72ff655-f3a5-45dd-9fd1-a93527d641a4",
   "metadata": {},
   "outputs": [],
   "source": []
  }
 ],
 "metadata": {
  "kernelspec": {
   "display_name": "Python [conda env:base] *",
   "language": "python",
   "name": "conda-base-py"
  },
  "language_info": {
   "codemirror_mode": {
    "name": "ipython",
    "version": 3
   },
   "file_extension": ".py",
   "mimetype": "text/x-python",
   "name": "python",
   "nbconvert_exporter": "python",
   "pygments_lexer": "ipython3",
   "version": "3.13.5"
  }
 },
 "nbformat": 4,
 "nbformat_minor": 5
}
