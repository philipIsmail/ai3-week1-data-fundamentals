{
 "cells": [
  {
   "cell_type": "code",
   "execution_count": 1,
   "id": "8346d82d-b7ca-4537-bf00-e4db8031bc4b",
   "metadata": {},
   "outputs": [
    {
     "name": "stdout",
     "output_type": "stream",
     "text": [
      "Hello Philip\n"
     ]
    }
   ],
   "source": [
    "print(\"Hello Philip\")"
   ]
  },
  {
   "cell_type": "code",
   "execution_count": 2,
   "id": "a7af6474-5d59-4c73-872c-ca25d236c8cf",
   "metadata": {},
   "outputs": [
    {
     "name": "stdout",
     "output_type": "stream",
     "text": [
      "3.13.5 | packaged by Anaconda, Inc. | (main, Jun 12 2025, 11:23:37) [Clang 14.0.6 ]\n"
     ]
    }
   ],
   "source": [
    "import sys\n",
    "print(sys.version)"
   ]
  },
  {
   "cell_type": "code",
   "execution_count": 3,
   "id": "c9347553-1c24-49b7-9619-470792b0cbbf",
   "metadata": {},
   "outputs": [
    {
     "name": "stdout",
     "output_type": "stream",
     "text": [
      "Philip is 23 years old with GPA 3.9.\n"
     ]
    }
   ],
   "source": [
    "name = \"Philip\"\n",
    "age = 23\n",
    "gpa = 3.9\n",
    "print(f\"{name} is {age} years old with GPA {gpa}.\")"
   ]
  },
  {
   "cell_type": "code",
   "execution_count": 5,
   "id": "29cd2d20-8269-4629-ba8f-82cba7dd9c6b",
   "metadata": {},
   "outputs": [
    {
     "name": "stdout",
     "output_type": "stream",
     "text": [
      "Score: 90\n",
      "Score: 82\n",
      "Score: 76\n",
      "Score: 95\n"
     ]
    }
   ],
   "source": [
    "scores = [90, 82, 76, 95]\n",
    "for s in scores:\n",
    "    print(\"Score:\", s)"
   ]
  },
  {
   "cell_type": "code",
   "execution_count": 6,
   "id": "fa64d61d-22c5-43d9-b8a2-7d1a83663f60",
   "metadata": {},
   "outputs": [
    {
     "name": "stdout",
     "output_type": "stream",
     "text": [
      "Engineering\n"
     ]
    }
   ],
   "source": [
    "student = {\"name\": \"Philip\", \"major\": \"Engineering\", \"grad_year\": 2025}\n",
    "print(student[\"major\"])"
   ]
  },
  {
   "cell_type": "code",
   "execution_count": 7,
   "id": "bf02215c-6cd5-46b5-aa3f-edf72a760360",
   "metadata": {},
   "outputs": [
    {
     "name": "stdout",
     "output_type": "stream",
     "text": [
      "Average: 85.75\n"
     ]
    }
   ],
   "source": [
    "def average(nums):\n",
    "    return sum(nums) / len(nums)\n",
    "\n",
    "print(\"Average:\", average(scores))"
   ]
  },
  {
   "cell_type": "code",
   "execution_count": 9,
   "id": "c9b37585-253e-4630-bc45-d158f698855e",
   "metadata": {},
   "outputs": [],
   "source": [
    "import numpy as np\n",
    "import pandas as pd\n",
    "import matplotlib.pyplot as plt\n",
    "import seaborn as sns"
   ]
  },
  {
   "cell_type": "code",
   "execution_count": 11,
   "id": "a244ba16-219a-4fc9-8827-3f543b0b2051",
   "metadata": {},
   "outputs": [
    {
     "name": "stdout",
     "output_type": "stream",
     "text": [
      "    Name  Age  Score\n",
      "0  Alice   25     88\n",
      "1    Bob   30     92\n",
      "2  Cathy   22     79\n",
      "3  David   35     95\n",
      "Average score: 88.5\n"
     ]
    }
   ],
   "source": [
    "data = {\n",
    "    \"Name\": [\"Alice\", \"Bob\", \"Cathy\", \"David\"],\n",
    "    \"Age\": [25, 30, 22, 35],\n",
    "    \"Score\": [88, 92, 79, 95]\n",
    "}\n",
    "df = pd.DataFrame(data)\n",
    "\n",
    "print(df)\n",
    "print(\"Average score:\", df[\"Score\"].mean())"
   ]
  },
  {
   "cell_type": "code",
   "execution_count": null,
   "id": "30641db3-ebe6-410e-9fda-cdd3b1a88231",
   "metadata": {},
   "outputs": [],
   "source": []
  }
 ],
 "metadata": {
  "kernelspec": {
   "display_name": "Python [conda env:base] *",
   "language": "python",
   "name": "conda-base-py"
  },
  "language_info": {
   "codemirror_mode": {
    "name": "ipython",
    "version": 3
   },
   "file_extension": ".py",
   "mimetype": "text/x-python",
   "name": "python",
   "nbconvert_exporter": "python",
   "pygments_lexer": "ipython3",
   "version": "3.13.5"
  }
 },
 "nbformat": 4,
 "nbformat_minor": 5
}
